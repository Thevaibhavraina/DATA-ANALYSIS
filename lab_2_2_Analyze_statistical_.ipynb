{
  "nbformat": 4,
  "nbformat_minor": 0,
  "metadata": {
    "colab": {
      "provenance": [],
      "authorship_tag": "ABX9TyNKvgYIYw+j/y3yTsWVeJx1",
      "include_colab_link": true
    },
    "kernelspec": {
      "name": "python3",
      "display_name": "Python 3"
    },
    "language_info": {
      "name": "python"
    }
  },
  "cells": [
    {
      "cell_type": "markdown",
      "metadata": {
        "id": "view-in-github",
        "colab_type": "text"
      },
      "source": [
        "<a href=\"https://colab.research.google.com/github/Thevaibhavraina/SPIT-LAB/blob/main/lab_2_2_Analyze_statistical_.ipynb\" target=\"_parent\"><img src=\"https://colab.research.google.com/assets/colab-badge.svg\" alt=\"Open In Colab\"/></a>"
      ]
    },
    {
      "cell_type": "code",
      "execution_count": 1,
      "metadata": {
        "id": "G-7jN5bE6Jg2"
      },
      "outputs": [],
      "source": [
        "import numpy as np\n",
        "import pandas as pd"
      ]
    },
    {
      "cell_type": "code",
      "source": [
        "import matplotlib.pyplot as plt\n",
        "import seaborn as sns"
      ],
      "metadata": {
        "id": "ebXvcXrG6tIh"
      },
      "execution_count": 2,
      "outputs": []
    },
    {
      "cell_type": "code",
      "source": [
        "import scipy.stats\n",
        "import statsmodels.api as sm\n",
        "#import statsmodels.stats.api as sms\n",
        "import statsmodels.formula.api as smf\n",
        "from statsmodels.stats.stattools import jarque_bera"
      ],
      "metadata": {
        "id": "BSJIYI0r6vAn"
      },
      "execution_count": 3,
      "outputs": []
    },
    {
      "cell_type": "code",
      "source": [
        "%matplotlib inline"
      ],
      "metadata": {
        "id": "TZMrYr_A6xoS"
      },
      "execution_count": 4,
      "outputs": []
    },
    {
      "cell_type": "code",
      "source": [
        "url = 'https://github.com/duchesnay/pystatsml/raw/master/datasets/salary_table.csv'\n",
        "salary = pd.read_csv(url)"
      ],
      "metadata": {
        "id": "q2msGP5X6z2w"
      },
      "execution_count": 5,
      "outputs": []
    },
    {
      "cell_type": "code",
      "source": [
        "# Load iris datset\n",
        "iris = sm.datasets.get_rdataset(\"iris\").data\n",
        "iris.columns = [s.replace('.', '') for s in iris.columns]"
      ],
      "metadata": {
        "id": "2E18I9sY65He"
      },
      "execution_count": 6,
      "outputs": []
    },
    {
      "cell_type": "code",
      "source": [
        "n = 10\n",
        "x = np.random.normal(loc=1.78, scale=.1, size=n)\n",
        "y = np.random.normal(loc=1.66, scale=.1, size=n)\n",
        "\n",
        "xbar = np.mean(x)\n",
        "assert xbar == np.sum(x) / x.shape[0]\n",
        "\n",
        "xvar = np.var(x, ddof=1)\n",
        "assert xvar == np.sum((x - xbar) ** 2) / (n - 1)\n",
        "\n",
        "xycov = np.cov(x, y)\n",
        "print(xycov)\n",
        "\n",
        "ybar = np.sum(y) / n\n",
        "assert np.allclose(xycov[0, 1], np.sum((x - xbar) * (y - ybar)) / (n - 1))\n",
        "assert np.allclose(xycov[0, 0], xvar)\n",
        "assert np.allclose(xycov[1, 1], np.var(y, ddof=1))"
      ],
      "metadata": {
        "colab": {
          "base_uri": "https://localhost:8080/"
        },
        "id": "vXSmpgkz68f_",
        "outputId": "6a137633-abd4-45f8-87f4-64f646cba1ee"
      },
      "execution_count": 7,
      "outputs": [
        {
          "output_type": "stream",
          "name": "stdout",
          "text": [
            "[[ 0.00830139 -0.00126613]\n",
            " [-0.00126613  0.00595736]]\n"
          ]
        }
      ]
    },
    {
      "cell_type": "code",
      "source": [
        "iris.mean()"
      ],
      "metadata": {
        "colab": {
          "base_uri": "https://localhost:8080/"
        },
        "id": "zTDK4dSz7AoX",
        "outputId": "33391551-b143-43a5-a5da-e7d31589bcce"
      },
      "execution_count": 8,
      "outputs": [
        {
          "output_type": "stream",
          "name": "stderr",
          "text": [
            "/usr/local/lib/python3.7/dist-packages/ipykernel_launcher.py:1: FutureWarning: Dropping of nuisance columns in DataFrame reductions (with 'numeric_only=None') is deprecated; in a future version this will raise TypeError.  Select only valid columns before calling the reduction.\n",
            "  \"\"\"Entry point for launching an IPython kernel.\n"
          ]
        },
        {
          "output_type": "execute_result",
          "data": {
            "text/plain": [
              "SepalLength    5.843333\n",
              "SepalWidth     3.057333\n",
              "PetalLength    3.758000\n",
              "PetalWidth     1.199333\n",
              "dtype: float64"
            ]
          },
          "metadata": {},
          "execution_count": 8
        }
      ]
    },
    {
      "cell_type": "code",
      "source": [
        "iris.std()"
      ],
      "metadata": {
        "colab": {
          "base_uri": "https://localhost:8080/"
        },
        "id": "RTpZ8kyI7DF2",
        "outputId": "7fc08ad2-3fc1-4b4c-9eeb-6af2f54ed510"
      },
      "execution_count": 9,
      "outputs": [
        {
          "output_type": "stream",
          "name": "stderr",
          "text": [
            "/usr/local/lib/python3.7/dist-packages/ipykernel_launcher.py:1: FutureWarning: Dropping of nuisance columns in DataFrame reductions (with 'numeric_only=None') is deprecated; in a future version this will raise TypeError.  Select only valid columns before calling the reduction.\n",
            "  \"\"\"Entry point for launching an IPython kernel.\n"
          ]
        },
        {
          "output_type": "execute_result",
          "data": {
            "text/plain": [
              "SepalLength    0.828066\n",
              "SepalWidth     0.435866\n",
              "PetalLength    1.765298\n",
              "PetalWidth     0.762238\n",
              "dtype: float64"
            ]
          },
          "metadata": {},
          "execution_count": 9
        }
      ]
    },
    {
      "cell_type": "code",
      "source": [
        "X = iris[['SepalLength', 'SepalWidth', 'PetalLength', 'PetalWidth']].values\n",
        "iris.columns\n",
        "X.mean(axis=0)"
      ],
      "metadata": {
        "colab": {
          "base_uri": "https://localhost:8080/"
        },
        "id": "obL_XczZ7FLR",
        "outputId": "d18b9f53-4e4f-497c-b844-f7e619fe1a1d"
      },
      "execution_count": 10,
      "outputs": [
        {
          "output_type": "execute_result",
          "data": {
            "text/plain": [
              "array([5.84333333, 3.05733333, 3.758     , 1.19933333])"
            ]
          },
          "metadata": {},
          "execution_count": 10
        }
      ]
    },
    {
      "cell_type": "code",
      "source": [
        "X.std(axis=0, ddof=1)"
      ],
      "metadata": {
        "colab": {
          "base_uri": "https://localhost:8080/"
        },
        "id": "Vli1jZg-7IJ8",
        "outputId": "57f834d8-e1bd-4799-a212-43fb23fdd2c6"
      },
      "execution_count": 11,
      "outputs": [
        {
          "output_type": "execute_result",
          "data": {
            "text/plain": [
              "array([0.82806613, 0.43586628, 1.76529823, 0.76223767])"
            ]
          },
          "metadata": {},
          "execution_count": 11
        }
      ]
    },
    {
      "cell_type": "code",
      "source": [
        "mu = 0 # mean\n",
        "variance = 2 #variance\n",
        "sigma = np.sqrt(variance) #standard deviation\",\n",
        "x = np.linspace(mu - 3 * variance, mu + 3 * variance, 100)\n",
        "_ = plt.plot(x, scipy.stats.norm.pdf(x, mu, sigma))"
      ],
      "metadata": {
        "colab": {
          "base_uri": "https://localhost:8080/",
          "height": 265
        },
        "id": "_NbLM5it7LBi",
        "outputId": "d6b132ff-225f-492c-adf9-564fda9dcd1e"
      },
      "execution_count": 12,
      "outputs": [
        {
          "output_type": "display_data",
          "data": {
            "text/plain": [
              "<Figure size 432x288 with 1 Axes>"
            ],
            "image/png": "[encoded data removed]"
          },
          "metadata": {
            "needs_background": "light"
          }
        }
      ]
    },
    {
      "cell_type": "code",
      "source": [
        "fvalues = np.linspace(.1, 5, 100)\n",
        "\n",
        "# pdf(x, df1, df2): Probability density function at x of F.\n",
        "plt.plot(fvalues, scipy.stats.f.pdf(fvalues, 1, 30), 'b-', label=\"F(1, 30)\")\n",
        "plt.plot(fvalues, scipy.stats.f.pdf(fvalues, 5, 30), 'r-', label=\"F(5, 30)\")\n",
        "plt.legend()\n",
        "\n",
        "# cdf(x, df1, df2): Cumulative distribution function of F.\n",
        "# ie.\n",
        "proba_at_f_inf_3 = scipy.stats.f.cdf(3, 1, 30) # P(F(1,30) < 3)\n",
        "\n",
        "# ppf(q, df1, df2): Percent point function (inverse of cdf) at q of F.\n",
        "f_at_proba_inf_95 = scipy.stats.f.ppf(.95, 1, 30) # q such P(F(1,30) < .95)\n",
        "assert scipy.stats.f.cdf(f_at_proba_inf_95, 1, 30) == .95\n",
        "\n",
        "# sf(x, df1, df2): Survival function (1 - cdf) at x of F.\n",
        "proba_at_f_sup_3 = scipy.stats.f.sf(3, 1, 30) # P(F(1,30) > 3)\n",
        "assert  proba_at_f_inf_3 + proba_at_f_sup_3 == 1\n",
        "\n",
        "# p-value: P(F(1, 30)) < 0.05\n",
        "low_proba_fvalues = fvalues[fvalues > f_at_proba_inf_95]\n",
        "plt.fill_between(low_proba_fvalues, 0, scipy.stats.f.pdf(low_proba_fvalues, 1, 30),\n",
        "                 alpha=.8, label=\"P < 0.05\")\n",
        "plt.show()\n"
      ],
      "metadata": {
        "colab": {
          "base_uri": "https://localhost:8080/",
          "height": 265
        },
        "id": "GTsYh3DP7OKc",
        "outputId": "ddd3a535-5979-4be3-931f-0d99007706b2"
      },
      "execution_count": 13,
      "outputs": [
        {
          "output_type": "display_data",
          "data": {
            "text/plain": [
              "<Figure size 432x288 with 1 Axes>"
            ],
            "image/png": "[encoded data removed]"
          },
          "metadata": {
            "needs_background": "light"
          }
        }
      ]
    },
    {
      "cell_type": "code",
      "source": [
        "plt.figure(figsize=(5, 3))\n",
        "plt.bar([0, 1, 2, 3], [1/8, 3/8, 3/8, 1/8], width=0.9)\n",
        "_ = plt.xticks([0, 1, 2, 3], [0, 1, 2, 3])\n",
        "plt.xlabel(\"Distribution of the number of head over 3 flip under the null hypothesis\")"
      ],
      "metadata": {
        "colab": {
          "base_uri": "https://localhost:8080/",
          "height": 242
        },
        "id": "7aAhPvqM7ZP2",
        "outputId": "4787823f-08a2-4b1d-8cdd-1c0f0dc1959b"
      },
      "execution_count": 14,
      "outputs": [
        {
          "output_type": "execute_result",
          "data": {
            "text/plain": [
              "Text(0.5, 0, 'Distribution of the number of head over 3 flip under the null hypothesis')"
            ]
          },
          "metadata": {},
          "execution_count": 14
        },
        {
          "output_type": "display_data",
          "data": {
            "text/plain": [
              "<Figure size 360x216 with 1 Axes>"
            ],
            "image/png": "[encoded data removed]"
          },
          "metadata": {
            "needs_background": "light"
          }
        }
      ]
    },
    {
      "cell_type": "code",
      "source": [
        "succes = np.linspace(30, 70, 41)\n",
        "plt.plot(succes, scipy.stats.binom.pmf(succes, 100, 0.5),\n",
        "         'b-', label=\"Binomial(100, 0.5)\")\n",
        "upper_succes_tvalues = succes[succes > 60]\n",
        "plt.fill_between(upper_succes_tvalues, 0,\n",
        "                 scipy.stats.binom.pmf(upper_succes_tvalues, 100, 0.5),\n",
        "                 alpha=.8, label=\"p-value\")\n",
        "_ = plt.legend()\n",
        "\n",
        "\n",
        "pval = 1 - scipy.stats.binom.cdf(60, 100, 0.5)\n",
        "print(pval)"
      ],
      "metadata": {
        "colab": {
          "base_uri": "https://localhost:8080/",
          "height": 282
        },
        "id": "KKmtEKSm7c9X",
        "outputId": "c9751947-1f55-4fb7-930b-bb50f0332062"
      },
      "execution_count": 15,
      "outputs": [
        {
          "output_type": "stream",
          "name": "stdout",
          "text": [
            "0.01760010010885238\n"
          ]
        },
        {
          "output_type": "display_data",
          "data": {
            "text/plain": [
              "<Figure size 432x288 with 1 Axes>"
            ],
            "image/png": "[encoded data removed]"
          },
          "metadata": {
            "needs_background": "light"
          }
        }
      ]
    },
    {
      "cell_type": "code",
      "source": [
        "sccess_h0 = scipy.stats.binom.rvs(100, 0.5, size=10000, random_state=4)\n",
        "print(sccess_h0)\n",
        "\n",
        "pval_rnd = np.sum(sccess_h0 >= 60) / (len(sccess_h0) + 1)\n",
        "print(\"P-value using monte-carlo sampling of the Binomial distribution under H0=\",\n",
        "      pval_rnd)"
      ],
      "metadata": {
        "colab": {
          "base_uri": "https://localhost:8080/"
        },
        "id": "W0I6vFqp7f4F",
        "outputId": "9f7e5028-d2e9-4db5-976d-bcf4eb05478d"
      },
      "execution_count": 16,
      "outputs": [
        {
          "output_type": "stream",
          "name": "stdout",
          "text": [
            "[60 52 51 ... 45 51 44]\n",
            "P-value using monte-carlo sampling of the Binomial distribution under H0= 0.025897410258974102\n"
          ]
        }
      ]
    },
    {
      "cell_type": "code",
      "source": [
        "x = [1.83,  1.83,  1.73,  1.82,  1.83,  1.73,  1.99,  1.85,  1.68,  1.87]\n",
        "\n",
        "xbar = np.mean(x)  # sample mean\n",
        "mu0 = 1.75  # hypothesized value\n",
        "s = np.std(x, ddof=1)  # sample standard deviation\n",
        "n = len(x)  # sample size\n",
        "\n",
        "print(xbar)\n",
        "\n",
        "tobs = (xbar - mu0) / (s / np.sqrt(n))\n",
        "print(tobs)"
      ],
      "metadata": {
        "colab": {
          "base_uri": "https://localhost:8080/"
        },
        "id": "_OTzC2oX7h55",
        "outputId": "c5babd88-314d-4b52-f521-75372a3c3830"
      },
      "execution_count": 17,
      "outputs": [
        {
          "output_type": "stream",
          "name": "stdout",
          "text": [
            "1.816\n",
            "2.3968766311585883\n"
          ]
        }
      ]
    },
    {
      "cell_type": "code",
      "source": [
        "tvalues = np.linspace(-10, 10, 100)\n",
        "plt.plot(tvalues, scipy.stats.t.pdf(tvalues, n-1), 'b-', label=\"T(n-1)\")\n",
        "upper_tval_tvalues = tvalues[tvalues > tobs]\n",
        "plt.fill_between(upper_tval_tvalues, 0, scipy.stats.t.pdf(upper_tval_tvalues, n-1),\n",
        "                 alpha=.8, label=\"p-value\")\n",
        "_ = plt.legend()"
      ],
      "metadata": {
        "colab": {
          "base_uri": "https://localhost:8080/",
          "height": 267
        },
        "id": "rtN6ytnm7kT2",
        "outputId": "c122c92c-24f3-41f6-8848-ad99c360f2a2"
      },
      "execution_count": 18,
      "outputs": [
        {
          "output_type": "display_data",
          "data": {
            "text/plain": [
              "<Figure size 432x288 with 1 Axes>"
            ],
            "image/png": "[encoded data removed]"
          },
          "metadata": {
            "needs_background": "light"
          }
        }
      ]
    },
    {
      "cell_type": "code",
      "source": [
        "  n = 50\n",
        "x = np.random.normal(size=n)\n",
        "y = 2 * x + np.random.normal(size=n)\n",
        "\n",
        "# Compute with scipy\n",
        "cor, pval = scipy.stats.pearsonr(x, y)\n",
        "print(cor, pval)"
      ],
      "metadata": {
        "colab": {
          "base_uri": "https://localhost:8080/"
        },
        "id": "abWsHHI37l7w",
        "outputId": "f666ffc8-e38e-4a7f-935e-de24c53df6d2"
      },
      "execution_count": 19,
      "outputs": [
        {
          "output_type": "stream",
          "name": "stdout",
          "text": [
            "0.9006604533905276 5.335043002652811e-19\n"
          ]
        }
      ]
    },
    {
      "cell_type": "code",
      "source": [
        "height = np.array([ 1.83,  1.83,  1.73,  1.82,  1.83,  1.73,  1.99,  1.85,  1.68,  1.87,\n",
        "                    1.66,  1.71,  1.73,  1.64,  1.70,  1.60,  1.79,  1.73,  1.62,  1.77])\n",
        "\n",
        "grp = np.array([\"M\"] * 10 + [\"F\"] * 10)\n",
        "\n",
        "# Compute with scipy\n",
        "scipy.stats.ttest_ind(height[grp == \"M\"], height[grp == \"F\"], equal_var=True)"
      ],
      "metadata": {
        "colab": {
          "base_uri": "https://localhost:8080/"
        },
        "id": "AvzpaAir7oyX",
        "outputId": "6417f23e-6cdb-429a-cb56-3b855dc927f5"
      },
      "execution_count": 20,
      "outputs": [
        {
          "output_type": "execute_result",
          "data": {
            "text/plain": [
              "Ttest_indResult(statistic=3.5511519888466885, pvalue=0.00228208937112721)"
            ]
          },
          "metadata": {},
          "execution_count": 20
        }
      ]
    },
    {
      "cell_type": "code",
      "source": [
        "# Group means\n",
        "means = iris.groupby(\"Species\").mean().reset_index()\n",
        "print(means)\n",
        "\n",
        "# Group Stds (equal variances ?)\n",
        "stds = iris.groupby(\"Species\").std(ddof=1).reset_index()\n",
        "print(stds)\n",
        "\n",
        "# Plot groups\n",
        "ax = sns.violinplot(x=\"Species\", y=\"SepalLength\", data=iris)\n",
        "ax = sns.swarmplot(x=\"Species\", y=\"SepalLength\", data=iris,\n",
        "                   color=\"white\")\n",
        "ax = sns.swarmplot(x=\"Species\", y=\"SepalLength\",  color=\"black\", data=means, size=10)\n",
        "\n",
        "# ANOVA\n",
        "lm = smf.ols('SepalLength ~ Species', data=iris).fit()\n",
        "sm.stats.anova_lm(lm, typ=2) # Type 2 ANOVA DataFrame\n"
      ],
      "metadata": {
        "colab": {
          "base_uri": "https://localhost:8080/",
          "height": 513
        },
        "id": "kKbAv7pV7x6n",
        "outputId": "cb570fd5-dd5a-48a2-d772-492b9e32ec4a"
      },
      "execution_count": 21,
      "outputs": [
        {
          "output_type": "stream",
          "name": "stdout",
          "text": [
            "      Species  SepalLength  SepalWidth  PetalLength  PetalWidth\n",
            "0      setosa        5.006       3.428        1.462       0.246\n",
            "1  versicolor        5.936       2.770        4.260       1.326\n",
            "2   virginica        6.588       2.974        5.552       2.026\n",
            "      Species  SepalLength  SepalWidth  PetalLength  PetalWidth\n",
            "0      setosa     0.352490    0.379064     0.173664    0.105386\n",
            "1  versicolor     0.516171    0.313798     0.469911    0.197753\n",
            "2   virginica     0.635880    0.322497     0.551895    0.274650\n"
          ]
        },
        {
          "output_type": "execute_result",
          "data": {
            "text/plain": [
              "             sum_sq     df           F        PR(>F)\n",
              "Species   63.212133    2.0  119.264502  1.669669e-31\n",
              "Residual  38.956200  147.0         NaN           NaN"
            ],
            "text/html": [
              "\n",
              "  <div id=\"df-39143c8e-0c47-4b79-a871-b05b02c351c1\">\n",
              "    <div class=\"colab-df-container\">\n",
              "      <div>\n",
              "<style scoped>\n",
              "    .dataframe tbody tr th:only-of-type {\n",
              "        vertical-align: middle;\n",
              "    }\n",
              "\n",
              "    .dataframe tbody tr th {\n",
              "        vertical-align: top;\n",
              "    }\n",
              "\n",
              "    .dataframe thead th {\n",
              "        text-align: right;\n",
              "    }\n",
              "</style>\n",
              "<table border=\"1\" class=\"dataframe\">\n",
              "  <thead>\n",
              "    <tr style=\"text-align: right;\">\n",
              "      <th></th>\n",
              "      <th>sum_sq</th>\n",
              "      <th>df</th>\n",
              "      <th>F</th>\n",
              "      <th>PR(&gt;F)</th>\n",
              "    </tr>\n",
              "  </thead>\n",
              "  <tbody>\n",
              "    <tr>\n",
              "      <th>Species</th>\n",
              "      <td>63.212133</td>\n",
              "      <td>2.0</td>\n",
              "      <td>119.264502</td>\n",
              "      <td>1.669669e-31</td>\n",
              "    </tr>\n",
              "    <tr>\n",
              "      <th>Residual</th>\n",
              "      <td>38.956200</td>\n",
              "      <td>147.0</td>\n",
              "      <td>NaN</td>\n",
              "      <td>NaN</td>\n",
              "    </tr>\n",
              "  </tbody>\n",
              "</table>\n",
              "</div>\n",
              "      <button class=\"colab-df-convert\" onclick=\"convertToInteractive('df-39143c8e-0c47-4b79-a871-b05b02c351c1')\"\n",
              "              title=\"Convert this dataframe to an interactive table.\"\n",
              "              style=\"display:none;\">\n",
              "        \n",
              "  <svg xmlns=\"http://www.w3.org/2000/svg\" height=\"24px\"viewBox=\"0 0 24 24\"\n",
              "       width=\"24px\">\n",
              "    <path d=\"M0 0h24v24H0V0z\" fill=\"none\"/>\n",
              "    <path d=\"M18.56 5.44l.94 2.06.94-2.06 2.06-.94-2.06-.94-.94-2.06-.94 2.06-2.06.94zm-11 1L8.5 8.5l.94-2.06 2.06-.94-2.06-.94L8.5 2.5l-.94 2.06-2.06.94zm10 10l.94 2.06.94-2.06 2.06-.94-2.06-.94-.94-2.06-.94 2.06-2.06.94z\"/><path d=\"M17.41 7.96l-1.37-1.37c-.4-.4-.92-.59-1.43-.59-.52 0-1.04.2-1.43.59L10.3 9.45l-7.72 7.72c-.78.78-.78 2.05 0 2.83L4 21.41c.39.39.9.59 1.41.59.51 0 1.02-.2 1.41-.59l7.78-7.78 2.81-2.81c.8-.78.8-2.07 0-2.86zM5.41 20L4 18.59l7.72-7.72 1.47 1.35L5.41 20z\"/>\n",
              "  </svg>\n",
              "      </button>\n",
              "      \n",
              "  <style>\n",
              "    .colab-df-container {\n",
              "      display:flex;\n",
              "      flex-wrap:wrap;\n",
              "      gap: 12px;\n",
              "    }\n",
              "\n",
              "    .colab-df-convert {\n",
              "      background-color: #E8F0FE;\n",
              "      border: none;\n",
              "      border-radius: 50%;\n",
              "      cursor: pointer;\n",
              "      display: none;\n",
              "      fill: #1967D2;\n",
              "      height: 32px;\n",
              "      padding: 0 0 0 0;\n",
              "      width: 32px;\n",
              "    }\n",
              "\n",
              "    .colab-df-convert:hover {\n",
              "      background-color: #E2EBFA;\n",
              "      box-shadow: 0px 1px 2px rgba(60, 64, 67, 0.3), 0px 1px 3px 1px rgba(60, 64, 67, 0.15);\n",
              "      fill: #174EA6;\n",
              "    }\n",
              "\n",
              "    [theme=dark] .colab-df-convert {\n",
              "      background-color: #3B4455;\n",
              "      fill: #D2E3FC;\n",
              "    }\n",
              "\n",
              "    [theme=dark] .colab-df-convert:hover {\n",
              "      background-color: #434B5C;\n",
              "      box-shadow: 0px 1px 3px 1px rgba(0, 0, 0, 0.15);\n",
              "      filter: drop-shadow(0px 1px 2px rgba(0, 0, 0, 0.3));\n",
              "      fill: #FFFFFF;\n",
              "    }\n",
              "  </style>\n",
              "\n",
              "      <script>\n",
              "        const buttonEl =\n",
              "          document.querySelector('#df-39143c8e-0c47-4b79-a871-b05b02c351c1 button.colab-df-convert');\n",
              "        buttonEl.style.display =\n",
              "          google.colab.kernel.accessAllowed ? 'block' : 'none';\n",
              "\n",
              "        async function convertToInteractive(key) {\n",
              "          const element = document.querySelector('#df-39143c8e-0c47-4b79-a871-b05b02c351c1');\n",
              "          const dataTable =\n",
              "            await google.colab.kernel.invokeFunction('convertToInteractive',\n",
              "                                                     [key], {});\n",
              "          if (!dataTable) return;\n",
              "\n",
              "          const docLinkHtml = 'Like what you see? Visit the ' +\n",
              "            '<a target=\"_blank\" href=https://colab.research.google.com/notebooks/data_table.ipynb>data table notebook</a>'\n",
              "            + ' to learn more about interactive tables.';\n",
              "          element.innerHTML = '';\n",
              "          dataTable['output_type'] = 'display_data';\n",
              "          await google.colab.output.renderOutput(dataTable, element);\n",
              "          const docLink = document.createElement('div');\n",
              "          docLink.innerHTML = docLinkHtml;\n",
              "          element.appendChild(docLink);\n",
              "        }\n",
              "      </script>\n",
              "    </div>\n",
              "  </div>\n",
              "  "
            ]
          },
          "metadata": {},
          "execution_count": 21
        },
        {
          "output_type": "display_data",
          "data": {
            "text/plain": [
              "<Figure size 432x288 with 1 Axes>"
            ],
            "image/png": "[encoded data removed]"
          },
          "metadata": {
            "needs_background": "light"
          }
        }
      ]
    },
    {
      "cell_type": "code",
      "source": [],
      "metadata": {
        "id": "rry1pAG38dTk"
      },
      "execution_count": null,
      "outputs": []
    }
  ]
}